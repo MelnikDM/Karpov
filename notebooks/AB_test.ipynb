{
 "cells": [
  {
   "cell_type": "markdown",
   "id": "b112ed3f-2cec-4831-881b-0e8b220bd8c3",
   "metadata": {},
   "source": [
    "## AB-test"
   ]
  },
  {
   "cell_type": "code",
   "execution_count": 1,
   "id": "11dada56-da38-459a-aeb1-ca1ff0b26e5e",
   "metadata": {},
   "outputs": [],
   "source": [
    "import pandas as pd\n",
    "import pandahouse as ph\n",
    "from scipy import stats\n",
    "import hashlib\n",
    "import numpy as np\n",
    "import matplotlib.pyplot as plt\n",
    "import seaborn as sns"
   ]
  },
  {
   "cell_type": "code",
   "execution_count": 2,
   "id": "3f478f75-3e77-4e3e-b5e1-5b18d25124d9",
   "metadata": {},
   "outputs": [],
   "source": [
    "connection = {'host' : 'https://clickhouse.lab.karpov.courses',\n",
    "              'database' : 'simulator_20220820',\n",
    "              'user' : 'student',\n",
    "              'password' : 'dpo_python_2020'\n",
    "             }\n",
    "\n",
    "query = '''\n",
    "    SELECT user_id,\n",
    "           countIf(user_id, action = 'like' ) as like,\n",
    "           countIf(user_id, action = 'view' ) as view,\n",
    "           like/view as CTR,\n",
    "           exp_group\n",
    "      FROM {db}.feed_actions\n",
    "      WHERE toDate(time) >= '2022-07-13' and toDate(time) <= '2022-07-19'\n",
    "      GROUP BY user_id, exp_group\n",
    "      '''\n",
    "\n",
    "df = ph.read_clickhouse(query, connection = connection)"
   ]
  },
  {
   "cell_type": "markdown",
   "id": "76a158ef-fc7c-4472-b29b-c54fbc937c29",
   "metadata": {
    "tags": []
   },
   "source": [
    "Пришло время проанализировать результаты эксперимента, который мы провели вместе с командой дата сайентистов. Эксперимент проходил с **2022-07-13 по 2022-07-19** включительно. Для эксперимента были задействованы 2 и 1 группы. \n",
    "\n",
    "В **группе 2** был использован один из новых алгоритмов рекомендации постов, **группа 1** использовалась в качестве контроля. \n",
    "\n",
    "Основная гипотеза заключается в том, что новый алгоритм во 2-й группе приведет к увеличению CTR. \n",
    "\n",
    "Ваша задача — проанализировать данные АB-теста. \n",
    "\n",
    "- Выбрать метод анализа и сравнить CTR в двух группах (мы разбирали t-тест, Пуассоновский бутстреп, тест Манна-Уитни, t-тест на сглаженном ctr (α=5) а также t-тест и тест Манна-Уитни поверх бакетного преобразования).\n",
    "- Сравните данные этими тестами. А еще посмотрите на распределения глазами. Почему тесты сработали так как сработали? \n",
    "- Опишите потенциальную ситуацию, когда такое изменение могло произойти. Тут нет идеального ответа, подумайте.\n",
    "- Напишите рекомендацию, будем ли мы раскатывать новый алгоритм на всех новых пользователей или все-таки не стоит."
   ]
  },
  {
   "cell_type": "markdown",
   "id": "8e42b353-6035-46e3-810e-4475cebdff2d",
   "metadata": {},
   "source": [
    "#### Выбор метода анализа и сравнение CTR"
   ]
  },
  {
   "cell_type": "markdown",
   "id": "547b94e5-540c-4bc8-9244-71c8a0ddbd0c",
   "metadata": {},
   "source": [
    "Посмотрим, что представляют из себя наши экспериментальные группы."
   ]
  },
  {
   "cell_type": "code",
   "execution_count": 3,
   "id": "ab7bca7a-2c68-4997-b82a-da4a82c67202",
   "metadata": {},
   "outputs": [],
   "source": [
    "df_g = df.query('exp_group == 1 | exp_group == 2')"
   ]
  },
  {
   "cell_type": "code",
   "execution_count": 12,
   "id": "196e97ed-b4e3-4622-8565-a77f780843f7",
   "metadata": {},
   "outputs": [
    {
     "data": {
      "text/html": [
       "<div>\n",
       "<style scoped>\n",
       "    .dataframe tbody tr th:only-of-type {\n",
       "        vertical-align: middle;\n",
       "    }\n",
       "\n",
       "    .dataframe tbody tr th {\n",
       "        vertical-align: top;\n",
       "    }\n",
       "\n",
       "    .dataframe thead th {\n",
       "        text-align: right;\n",
       "    }\n",
       "</style>\n",
       "<table border=\"1\" class=\"dataframe\">\n",
       "  <thead>\n",
       "    <tr style=\"text-align: right;\">\n",
       "      <th></th>\n",
       "      <th>user_id</th>\n",
       "      <th>like</th>\n",
       "      <th>view</th>\n",
       "      <th>CTR</th>\n",
       "      <th>exp_group</th>\n",
       "    </tr>\n",
       "  </thead>\n",
       "  <tbody>\n",
       "    <tr>\n",
       "      <th>1</th>\n",
       "      <td>18392</td>\n",
       "      <td>7</td>\n",
       "      <td>32</td>\n",
       "      <td>0.218750</td>\n",
       "      <td>1</td>\n",
       "    </tr>\n",
       "    <tr>\n",
       "      <th>3</th>\n",
       "      <td>131473</td>\n",
       "      <td>14</td>\n",
       "      <td>134</td>\n",
       "      <td>0.104478</td>\n",
       "      <td>2</td>\n",
       "    </tr>\n",
       "    <tr>\n",
       "      <th>5</th>\n",
       "      <td>32420</td>\n",
       "      <td>26</td>\n",
       "      <td>128</td>\n",
       "      <td>0.203125</td>\n",
       "      <td>2</td>\n",
       "    </tr>\n",
       "    <tr>\n",
       "      <th>6</th>\n",
       "      <td>24239</td>\n",
       "      <td>40</td>\n",
       "      <td>90</td>\n",
       "      <td>0.444444</td>\n",
       "      <td>2</td>\n",
       "    </tr>\n",
       "    <tr>\n",
       "      <th>8</th>\n",
       "      <td>27443</td>\n",
       "      <td>2</td>\n",
       "      <td>29</td>\n",
       "      <td>0.068966</td>\n",
       "      <td>1</td>\n",
       "    </tr>\n",
       "    <tr>\n",
       "      <th>...</th>\n",
       "      <td>...</td>\n",
       "      <td>...</td>\n",
       "      <td>...</td>\n",
       "      <td>...</td>\n",
       "      <td>...</td>\n",
       "    </tr>\n",
       "    <tr>\n",
       "      <th>50138</th>\n",
       "      <td>21697</td>\n",
       "      <td>2</td>\n",
       "      <td>22</td>\n",
       "      <td>0.090909</td>\n",
       "      <td>1</td>\n",
       "    </tr>\n",
       "    <tr>\n",
       "      <th>50140</th>\n",
       "      <td>1232</td>\n",
       "      <td>5</td>\n",
       "      <td>96</td>\n",
       "      <td>0.052083</td>\n",
       "      <td>2</td>\n",
       "    </tr>\n",
       "    <tr>\n",
       "      <th>50142</th>\n",
       "      <td>120653</td>\n",
       "      <td>15</td>\n",
       "      <td>74</td>\n",
       "      <td>0.202703</td>\n",
       "      <td>1</td>\n",
       "    </tr>\n",
       "    <tr>\n",
       "      <th>50146</th>\n",
       "      <td>132567</td>\n",
       "      <td>45</td>\n",
       "      <td>296</td>\n",
       "      <td>0.152027</td>\n",
       "      <td>1</td>\n",
       "    </tr>\n",
       "    <tr>\n",
       "      <th>50148</th>\n",
       "      <td>17310</td>\n",
       "      <td>9</td>\n",
       "      <td>82</td>\n",
       "      <td>0.109756</td>\n",
       "      <td>2</td>\n",
       "    </tr>\n",
       "  </tbody>\n",
       "</table>\n",
       "<p>20031 rows × 5 columns</p>\n",
       "</div>"
      ],
      "text/plain": [
       "       user_id  like  view       CTR  exp_group\n",
       "1        18392     7    32  0.218750          1\n",
       "3       131473    14   134  0.104478          2\n",
       "5        32420    26   128  0.203125          2\n",
       "6        24239    40    90  0.444444          2\n",
       "8        27443     2    29  0.068966          1\n",
       "...        ...   ...   ...       ...        ...\n",
       "50138    21697     2    22  0.090909          1\n",
       "50140     1232     5    96  0.052083          2\n",
       "50142   120653    15    74  0.202703          1\n",
       "50146   132567    45   296  0.152027          1\n",
       "50148    17310     9    82  0.109756          2\n",
       "\n",
       "[20031 rows x 5 columns]"
      ]
     },
     "execution_count": 12,
     "metadata": {},
     "output_type": "execute_result"
    }
   ],
   "source": [
    "df_g"
   ]
  },
  {
   "cell_type": "code",
   "execution_count": 4,
   "id": "6953e171-968a-4650-a6e5-03e52e477422",
   "metadata": {},
   "outputs": [
    {
     "data": {
      "text/html": [
       "<div>\n",
       "<style scoped>\n",
       "    .dataframe tbody tr th:only-of-type {\n",
       "        vertical-align: middle;\n",
       "    }\n",
       "\n",
       "    .dataframe tbody tr th {\n",
       "        vertical-align: top;\n",
       "    }\n",
       "\n",
       "    .dataframe thead th {\n",
       "        text-align: right;\n",
       "    }\n",
       "</style>\n",
       "<table border=\"1\" class=\"dataframe\">\n",
       "  <thead>\n",
       "    <tr style=\"text-align: right;\">\n",
       "      <th></th>\n",
       "      <th>mean</th>\n",
       "      <th>median</th>\n",
       "      <th>count</th>\n",
       "      <th>sum</th>\n",
       "    </tr>\n",
       "    <tr>\n",
       "      <th>exp_group</th>\n",
       "      <th></th>\n",
       "      <th></th>\n",
       "      <th></th>\n",
       "      <th></th>\n",
       "    </tr>\n",
       "  </thead>\n",
       "  <tbody>\n",
       "    <tr>\n",
       "      <th>1</th>\n",
       "      <td>0.215605</td>\n",
       "      <td>0.203125</td>\n",
       "      <td>10079</td>\n",
       "      <td>2173.078747</td>\n",
       "    </tr>\n",
       "    <tr>\n",
       "      <th>2</th>\n",
       "      <td>0.214419</td>\n",
       "      <td>0.142857</td>\n",
       "      <td>9952</td>\n",
       "      <td>2133.900610</td>\n",
       "    </tr>\n",
       "  </tbody>\n",
       "</table>\n",
       "</div>"
      ],
      "text/plain": [
       "               mean    median  count          sum\n",
       "exp_group                                        \n",
       "1          0.215605  0.203125  10079  2173.078747\n",
       "2          0.214419  0.142857   9952  2133.900610"
      ]
     },
     "execution_count": 4,
     "metadata": {},
     "output_type": "execute_result"
    }
   ],
   "source": [
    "df_g.groupby('exp_group')['CTR'].agg(['mean', 'median', 'count', 'sum'])"
   ]
  },
  {
   "cell_type": "code",
   "execution_count": 6,
   "id": "00958396-904c-4b27-9231-66741b784fb2",
   "metadata": {},
   "outputs": [
    {
     "data": {
      "image/png": "[encoded data removed]",
      "text/plain": [
       "<Figure size 420x360 with 1 Axes>"
      ]
     },
     "metadata": {
      "needs_background": "light"
     },
     "output_type": "display_data"
    }
   ],
   "source": [
    "sns.displot(x='CTR',\n",
    "            hue ='exp_group',\n",
    "            data=df_g,\n",
    "            palette = ['g', 'b']);"
   ]
  },
  {
   "cell_type": "markdown",
   "id": "95e704b7-609f-45d3-bf04-db8e9098294e",
   "metadata": {},
   "source": [
    "Построим \"ящики с усами\", чтобы предварительно оценить нормальность распределения, размах выборок, вариативность данных, выбросы и медианные значения."
   ]
  },
  {
   "cell_type": "code",
   "execution_count": 7,
   "id": "9f5083a8-b853-4694-9e8b-ef175ad9b261",
   "metadata": {},
   "outputs": [
    {
     "data": {
      "text/plain": [
       "<AxesSubplot:xlabel='exp_group', ylabel='CTR'>"
      ]
     },
     "execution_count": 7,
     "metadata": {},
     "output_type": "execute_result"
    },
    {
     "data": {
      "image/png": "[encoded data removed]",
      "text/plain": [
       "<Figure size 576x576 with 1 Axes>"
      ]
     },
     "metadata": {
      "needs_background": "light"
     },
     "output_type": "display_data"
    }
   ],
   "source": [
    "fig = plt.subplots(1,1, figsize=(8, 8))\n",
    "\n",
    "sns.boxplot(data = df_g,\n",
    "            x = 'exp_group',\n",
    "            y = 'CTR',\n",
    "            palette = 'husl',\n",
    "            width=0.4)\n",
    "sns.stripplot(data = df_g, \n",
    "                        x= \"exp_group\",\n",
    "                        y = \"CTR\",\n",
    "                        marker=\"*\",\n",
    "                        alpha=0.1,\n",
    "                        color=\"black\")"
   ]
  },
  {
   "cell_type": "markdown",
   "id": "4e603be5-2a60-4e8a-a9e9-05ba549f9e7c",
   "metadata": {},
   "source": [
    "Из графиков видно, что визуально распределения отличаются друг от друга: контрольная группа 1 имеет распределение более-менее напоминающее нормальное, в то время как экспериментальная группа - распределение с двумя пиками. Безусловно более точный ответ нам дадут графики Q-Q plot и критерий Шапиро-Уилка. Касаемо медианных значений, то видно, что в контрольной группе они имеют более высокие значения. Обращает на себя внимание значительный размах экспериментальный группы с двумя явно выраженными пиками в районе 0.07-0.12 и 0.28-0.33. Причем значений в первом диапазоне в разы больше, чем во втором.\n",
    "\n",
    "Отметим, что средние значения групп совпадают, а разница наблюдается в медианах. Вероятнее, всего t-test нам ничего вразумительного не покажет."
   ]
  },
  {
   "cell_type": "markdown",
   "id": "79c7aaa0-d75b-4e0f-ba64-8c1e370eec3f",
   "metadata": {},
   "source": [
    "#### Сглаживание CTR"
   ]
  },
  {
   "cell_type": "markdown",
   "id": "9bfb782b-1458-40a9-8aec-eb3673bb3458",
   "metadata": {},
   "source": [
    "Проведем сглаживание CTR, нивелировав \"вклад\" пользователей с небольшим количеством просмотров, за счет штрафов."
   ]
  },
  {
   "cell_type": "code",
   "execution_count": 8,
   "id": "b3e77d12-287b-445c-85ed-8550112adaf0",
   "metadata": {},
   "outputs": [],
   "source": [
    "def get_smoothed_ctr(user_likes, user_views, global_ctr, alpha):\n",
    "    \"\"\"\n",
    "    Функция принимает на вход CTR каждого пользователя и возвращает сглаженный CTR\n",
    "    --------------------\n",
    "    Параметры:\n",
    "    user_likes - лайки пользователя\n",
    "    user_views - просмотры пользователя\n",
    "    global_ctr - like/view для всех пользователей\n",
    "    alpha - коэффициент сглаживания\n",
    "\n",
    "    Функция возвращает: \n",
    "    smoothed_ctr - значение сглаженного CTR\n",
    "    \"\"\"\n",
    "    smoothed_ctr = (user_likes + alpha * global_ctr) / (user_views + alpha)\n",
    "    return smoothed_ctr"
   ]
  },
  {
   "cell_type": "code",
   "execution_count": 9,
   "id": "be9d802c-1088-42c4-bf17-958ee09f2a30",
   "metadata": {},
   "outputs": [],
   "source": [
    "global_ctr_1 = df_g[df_g.exp_group == 1].like.sum()/df_g[df_g.exp_group == 1].view.sum()\n",
    "global_ctr_2 = df_g[df_g.exp_group == 2].like.sum()/df_g[df_g.exp_group == 2].view.sum()\n",
    "gr_sm_1 = df_g[df_g.exp_group == 1].copy()\n",
    "gr_sm_2 = df_g[df_g.exp_group == 2].copy()"
   ]
  },
  {
   "cell_type": "code",
   "execution_count": 10,
   "id": "4f488016-4d74-4cf6-866f-6f998f42292b",
   "metadata": {},
   "outputs": [],
   "source": [
    "gr_sm_1['smoothed_ctr'] = df_g.apply(\n",
    "                        lambda x: get_smoothed_ctr(x['like'], x['view'], global_ctr_1, 5), axis=1)\n",
    "gr_sm_2['smoothed_ctr'] = df_g.apply(\n",
    "                        lambda x: get_smoothed_ctr(x['like'], x['view'], global_ctr_2, 5), axis=1)"
   ]
  },
  {
   "cell_type": "code",
   "execution_count": 11,
   "id": "436631e7-3914-43ff-a722-3c11c061e75b",
   "metadata": {},
   "outputs": [
    {
     "name": "stderr",
     "output_type": "stream",
     "text": [
      "/nfs/env/lib/python3.8/site-packages/seaborn/distributions.py:2557: FutureWarning: `distplot` is a deprecated function and will be removed in a future version. Please adapt your code to use either `displot` (a figure-level function with similar flexibility) or `histplot` (an axes-level function for histograms).\n",
      "  warnings.warn(msg, FutureWarning)\n"
     ]
    },
    {
     "data": {
      "text/plain": [
       "<AxesSubplot:xlabel='CTR'>"
      ]
     },
     "execution_count": 11,
     "metadata": {},
     "output_type": "execute_result"
    },
    {
     "data": {
      "image/png": "[encoded data removed]",
      "text/plain": [
       "<Figure size 432x288 with 1 Axes>"
      ]
     },
     "metadata": {
      "needs_background": "light"
     },
     "output_type": "display_data"
    }
   ],
   "source": [
    "sns.distplot(gr_sm_1.smoothed_ctr,\n",
    "             kde = False,\n",
    "             color = 'r')\n",
    "sns.distplot(gr_sm_1.CTR,\n",
    "             kde = False)"
   ]
  },
  {
   "cell_type": "code",
   "execution_count": 12,
   "id": "50a26af6-89c6-4169-a718-ce06f88726a4",
   "metadata": {},
   "outputs": [
    {
     "data": {
      "text/html": [
       "<div>\n",
       "<style scoped>\n",
       "    .dataframe tbody tr th:only-of-type {\n",
       "        vertical-align: middle;\n",
       "    }\n",
       "\n",
       "    .dataframe tbody tr th {\n",
       "        vertical-align: top;\n",
       "    }\n",
       "\n",
       "    .dataframe thead th {\n",
       "        text-align: right;\n",
       "    }\n",
       "</style>\n",
       "<table border=\"1\" class=\"dataframe\">\n",
       "  <thead>\n",
       "    <tr style=\"text-align: right;\">\n",
       "      <th></th>\n",
       "      <th>smoothed_ctr</th>\n",
       "      <th>CTR</th>\n",
       "    </tr>\n",
       "  </thead>\n",
       "  <tbody>\n",
       "    <tr>\n",
       "      <th>mean</th>\n",
       "      <td>0.214025</td>\n",
       "      <td>0.215605</td>\n",
       "    </tr>\n",
       "    <tr>\n",
       "      <th>median</th>\n",
       "      <td>0.203480</td>\n",
       "      <td>0.203125</td>\n",
       "    </tr>\n",
       "    <tr>\n",
       "      <th>count</th>\n",
       "      <td>10079.000000</td>\n",
       "      <td>10079.000000</td>\n",
       "    </tr>\n",
       "  </tbody>\n",
       "</table>\n",
       "</div>"
      ],
      "text/plain": [
       "        smoothed_ctr           CTR\n",
       "mean        0.214025      0.215605\n",
       "median      0.203480      0.203125\n",
       "count   10079.000000  10079.000000"
      ]
     },
     "execution_count": 12,
     "metadata": {},
     "output_type": "execute_result"
    }
   ],
   "source": [
    "gr_sm_1[{'smoothed_ctr', 'CTR'}].agg(['mean', 'median', 'count'])"
   ]
  },
  {
   "cell_type": "code",
   "execution_count": 13,
   "id": "1bf0dea6-67b7-4da5-a21d-0df2a154813c",
   "metadata": {
    "tags": []
   },
   "outputs": [
    {
     "name": "stderr",
     "output_type": "stream",
     "text": [
      "/nfs/env/lib/python3.8/site-packages/seaborn/distributions.py:2557: FutureWarning: `distplot` is a deprecated function and will be removed in a future version. Please adapt your code to use either `displot` (a figure-level function with similar flexibility) or `histplot` (an axes-level function for histograms).\n",
      "  warnings.warn(msg, FutureWarning)\n"
     ]
    },
    {
     "data": {
      "text/plain": [
       "<AxesSubplot:xlabel='CTR'>"
      ]
     },
     "execution_count": 13,
     "metadata": {},
     "output_type": "execute_result"
    },
    {
     "data": {
      "image/png": "[encoded data removed]",
      "text/plain": [
       "<Figure size 432x288 with 1 Axes>"
      ]
     },
     "metadata": {
      "needs_background": "light"
     },
     "output_type": "display_data"
    }
   ],
   "source": [
    "sns.distplot(gr_sm_2.smoothed_ctr,\n",
    "             kde = False,\n",
    "             color = 'r')\n",
    "sns.distplot(gr_sm_2.CTR,\n",
    "             kde = False)"
   ]
  },
  {
   "cell_type": "code",
   "execution_count": 14,
   "id": "9cfaae51-88db-4aaa-bc0e-217d00e25b7c",
   "metadata": {},
   "outputs": [
    {
     "data": {
      "text/html": [
       "<div>\n",
       "<style scoped>\n",
       "    .dataframe tbody tr th:only-of-type {\n",
       "        vertical-align: middle;\n",
       "    }\n",
       "\n",
       "    .dataframe tbody tr th {\n",
       "        vertical-align: top;\n",
       "    }\n",
       "\n",
       "    .dataframe thead th {\n",
       "        text-align: right;\n",
       "    }\n",
       "</style>\n",
       "<table border=\"1\" class=\"dataframe\">\n",
       "  <thead>\n",
       "    <tr style=\"text-align: right;\">\n",
       "      <th></th>\n",
       "      <th>smoothed_ctr</th>\n",
       "      <th>CTR</th>\n",
       "    </tr>\n",
       "  </thead>\n",
       "  <tbody>\n",
       "    <tr>\n",
       "      <th>mean</th>\n",
       "      <td>0.210740</td>\n",
       "      <td>0.214419</td>\n",
       "    </tr>\n",
       "    <tr>\n",
       "      <th>median</th>\n",
       "      <td>0.147879</td>\n",
       "      <td>0.142857</td>\n",
       "    </tr>\n",
       "    <tr>\n",
       "      <th>count</th>\n",
       "      <td>9952.000000</td>\n",
       "      <td>9952.000000</td>\n",
       "    </tr>\n",
       "  </tbody>\n",
       "</table>\n",
       "</div>"
      ],
      "text/plain": [
       "        smoothed_ctr          CTR\n",
       "mean        0.210740     0.214419\n",
       "median      0.147879     0.142857\n",
       "count    9952.000000  9952.000000"
      ]
     },
     "execution_count": 14,
     "metadata": {},
     "output_type": "execute_result"
    }
   ],
   "source": [
    "gr_sm_2[{'smoothed_ctr', 'CTR'}].agg(['mean', 'median', 'count'])"
   ]
  },
  {
   "cell_type": "markdown",
   "id": "e1564700-850f-45f8-ac66-05ddd916f723",
   "metadata": {},
   "source": [
    "### Применение различных методов анализа\n",
    "\n",
    "Итак, нашей гипотезой является, что новый алгоритм во 2-й группе приведет к увеличению CTR по сравнению с контрольной группой 1.\n",
    "\n",
    "**Н0:** CTR экспериметальной и CTR контрольной групп не различаются. \n",
    "\n",
    "**H1:** Различия в CTR есть.\n",
    "\n",
    "α = 0.05"
   ]
  },
  {
   "cell_type": "code",
   "execution_count": 15,
   "id": "04a07c60-8d78-4ebc-ad07-ff04fb565cdf",
   "metadata": {},
   "outputs": [],
   "source": [
    "# Разобьем группы по переменным для удобства\n",
    "ex_gr_1 = df_g.query('exp_group == 1')['CTR']\n",
    "ex_gr_2 = df_g.query('exp_group == 2')['CTR']"
   ]
  },
  {
   "cell_type": "markdown",
   "id": "2c34eec0-067d-4ff9-b718-62307583a9b8",
   "metadata": {},
   "source": [
    "#### t-test"
   ]
  },
  {
   "cell_type": "code",
   "execution_count": 16,
   "id": "c8d5917a-329d-43f1-be23-fe2ca6652baf",
   "metadata": {},
   "outputs": [
    {
     "data": {
      "text/plain": [
       "Ttest_indResult(statistic=0.7094392041270485, pvalue=0.4780623130874935)"
      ]
     },
     "execution_count": 16,
     "metadata": {},
     "output_type": "execute_result"
    }
   ],
   "source": [
    "stats.ttest_ind(ex_gr_1, ex_gr_2, equal_var = False)"
   ]
  },
  {
   "cell_type": "markdown",
   "id": "72f8055d-ff95-483f-ae8b-7433ba362ec0",
   "metadata": {},
   "source": [
    "Тест Стьюдента на обычном CTR выдал интересные результаты, показав, что средние наших групп равны: отбросить Н0 нельзя, т.к. p_value > α. Это неудивительно, т.к. результаты теста зависят от средних значений выборки, на которые в свою очередь большое влияние оказывают выбросы. В нашем случае получается, что пики экспериментальных групп друг друга \"схлопывают\", что приводит к практически равным средним с контрольной группой."
   ]
  },
  {
   "cell_type": "code",
   "execution_count": 17,
   "id": "95fd1a3d-dc5a-4b8c-bf88-96180d81d592",
   "metadata": {},
   "outputs": [
    {
     "data": {
      "text/plain": [
       "Ttest_indResult(statistic=2.2841320431616983, pvalue=0.0223769815558559)"
      ]
     },
     "execution_count": 17,
     "metadata": {},
     "output_type": "execute_result"
    }
   ],
   "source": [
    "stats.ttest_ind(gr_sm_1['smoothed_ctr'], gr_sm_2['smoothed_ctr'], equal_var = False)"
   ]
  },
  {
   "cell_type": "markdown",
   "id": "4af1c788-60d7-49ff-8f2b-ada2b15f352d",
   "metadata": {},
   "source": [
    "На сглаженном CTR результат больше похож на правду: статистика нашла различия p_value = 0.022 < α"
   ]
  },
  {
   "cell_type": "markdown",
   "id": "46d05035-2f5c-4081-8973-6710ff076281",
   "metadata": {},
   "source": [
    "#### Mann-Whitney U test\n",
    "\n",
    "Данный критерий отличается от Стьюдента тем, что в основе его лежит присвоение значениям выборок определенных рангов. Дальше эти ранги суммируются внутри каждой выборки, и мы смотрим на полученную разность. Ранги позволяют снизить \"веса\" выбросов, который влияли на t-test.\n",
    "\n",
    "**Н0:** Суммы рангов выборок равны.\n",
    "\n",
    "**H1:** Суммы рангов не равны."
   ]
  },
  {
   "cell_type": "code",
   "execution_count": 18,
   "id": "a60f1c6d-42a5-4f8e-8517-5f0af7ccb528",
   "metadata": {},
   "outputs": [
    {
     "data": {
      "text/plain": [
       "MannwhitneyuResult(statistic=56601260.5, pvalue=6.0376484617779035e-56)"
      ]
     },
     "execution_count": 18,
     "metadata": {},
     "output_type": "execute_result"
    }
   ],
   "source": [
    "stats.mannwhitneyu(ex_gr_1, ex_gr_2, alternative = 'two-sided')"
   ]
  },
  {
   "cell_type": "code",
   "execution_count": 19,
   "id": "f4bfe474-acee-45ec-9fe9-c9325f38e5ab",
   "metadata": {},
   "outputs": [
    {
     "data": {
      "text/plain": [
       "MannwhitneyuResult(statistic=56925125.0, pvalue=1.6163964114270227e-61)"
      ]
     },
     "execution_count": 19,
     "metadata": {},
     "output_type": "execute_result"
    }
   ],
   "source": [
    "stats.mannwhitneyu(gr_sm_1['smoothed_ctr'], gr_sm_2['smoothed_ctr'], alternative = 'two-sided')"
   ]
  },
  {
   "cell_type": "markdown",
   "id": "27b77ef2-6203-4144-8e74-ea865063767e",
   "metadata": {},
   "source": [
    "Тест Манна-Уитни выдает нам однозначные результаты как на обычном, так и на сглаженном CTR: p_value < α, а значит между нашими группами есть статистически значимые различия."
   ]
  },
  {
   "cell_type": "markdown",
   "id": "a420c6b8-7cbb-4731-a951-669a4957335b",
   "metadata": {},
   "source": [
    "#### Бакетное преобразование\n",
    "\n",
    "Раскидаем без повторений наших пользователей по корзинкам и проведем поверх них t-test и тест Манна-Уитни. Бакетизация позволяет нам нормализовать наши данные"
   ]
  },
  {
   "cell_type": "code",
   "execution_count": 20,
   "id": "68a2a1e8-1c8a-4dfb-84cf-ea4d0c5960ac",
   "metadata": {},
   "outputs": [],
   "source": [
    "q = \"\"\"\n",
    "    SELECT exp_group,\n",
    "           bucket,\n",
    "           sum(likes)/sum(views) as bucket_ctr,\n",
    "           quantileExact(0.9)(ctr) as ctr9\n",
    "      FROM (\n",
    "           SELECT exp_group,\n",
    "                  xxHash64(user_id)%50 as bucket,\n",
    "                  user_id,\n",
    "                  sum(action = 'like') as likes,\n",
    "                  sum(action = 'view') as views,\n",
    "                  likes/views as ctr\n",
    "            FROM {db}.feed_actions\n",
    "           WHERE toDate(time) between '2022-07-13' and '2022-07-19'\n",
    "             AND exp_group in (1,2)\n",
    "           GROUP BY exp_group, bucket, user_id)\n",
    "     GROUP BY exp_group, bucket\n",
    "\"\"\"\n",
    "df = ph.read_clickhouse(q, connection=connection)"
   ]
  },
  {
   "cell_type": "code",
   "execution_count": 21,
   "id": "68219b85-815c-4d44-bc82-fedd469f5fe7",
   "metadata": {},
   "outputs": [
    {
     "data": {
      "text/plain": [
       "Ttest_indResult(statistic=5.668234732053979, pvalue=3.4455951649945907e-07)"
      ]
     },
     "execution_count": 21,
     "metadata": {},
     "output_type": "execute_result"
    }
   ],
   "source": [
    "stats.ttest_ind(df[df.exp_group == 1].bucket_ctr, df[df.exp_group == 2].bucket_ctr, equal_var = False)"
   ]
  },
  {
   "cell_type": "code",
   "execution_count": 22,
   "id": "913d74f0-b7bc-4934-8476-f0a97f00efb3",
   "metadata": {},
   "outputs": [
    {
     "data": {
      "text/plain": [
       "MannwhitneyuResult(statistic=1995.0, pvalue=2.859963936492646e-07)"
      ]
     },
     "execution_count": 22,
     "metadata": {},
     "output_type": "execute_result"
    }
   ],
   "source": [
    "stats.mannwhitneyu(df[df.exp_group == 1].bucket_ctr, df[df.exp_group == 2].bucket_ctr, alternative = 'two-sided')"
   ]
  },
  {
   "cell_type": "code",
   "execution_count": 23,
   "id": "bd43e89d-36b9-4e25-a1f9-bdeecd4f6e09",
   "metadata": {},
   "outputs": [
    {
     "data": {
      "text/plain": [
       "<AxesSubplot:xlabel='bucket_ctr', ylabel='Count'>"
      ]
     },
     "execution_count": 23,
     "metadata": {},
     "output_type": "execute_result"
    },
    {
     "data": {
      "image/png": "[encoded data removed]",
      "text/plain": [
       "<Figure size 432x288 with 1 Axes>"
      ]
     },
     "metadata": {
      "needs_background": "light"
     },
     "output_type": "display_data"
    }
   ],
   "source": [
    "sns.histplot(df[df.exp_group == 1].bucket_ctr, bins = 10, color = 'r', alpha = 0.8)\n",
    "sns.histplot(df[df.exp_group == 2].bucket_ctr, bins = 12, color = 'b', alpha = 0.3)"
   ]
  },
  {
   "cell_type": "markdown",
   "id": "991c5788-3d39-44d5-930e-9bb5345c0486",
   "metadata": {},
   "source": [
    "Тест Манна-Уитни и Тест Стьюдента поверх бакетного преобразования также склоняются на сторону альтернативной гипотезы, отклоняя нулевую. Да и гистограмма наглядно демонстрирует разницу между нашими группами. Причем опять мы фиксируем, что показатели CTR у экспериментальной группы ниже, чем у контрольной."
   ]
  },
  {
   "cell_type": "markdown",
   "id": "9694ca7d-a561-4485-b65d-0b6469ceb498",
   "metadata": {},
   "source": [
    "#### Бутстреп\n",
    "\n",
    "Впервые увидев боксплот и агрегированные суммы CTR по группам, закралось предположение, что несмотря на то, что экспериментальная группа, скорее всего, отличается от контрольной, эффективность нововведений весьма сомнительна. Да, у второй группы есть второй пик, который превышает медиану первой группы. Но данный пик не такой уж и высокий. Большая часть CTR у экспериментальный группы все-таки значительно ниже медианы первой группы. А средние показатели кое-как выравниваются за счет второго пика. В общем, давайте превратим нашу выборку в условную \"генеральную совокупность\", искусственно создав из нее множество подвыборок."
   ]
  },
  {
   "cell_type": "code",
   "execution_count": 24,
   "id": "8478cffe-0605-4006-8732-ef1adb285c23",
   "metadata": {},
   "outputs": [],
   "source": [
    "def boot_CTR(df, exp_group, n_exp = 5000):\n",
    "    \"\"\"\n",
    "    Функция boot_CTR создает псевдовыборку методом bootstrap\n",
    "    --------------------\n",
    "    Параметры:\n",
    "    df - дата-фрейм\n",
    "    exp_group - номер группы\n",
    "    n_exp - число экспериментов\n",
    "\n",
    "    Функция возвращает: \n",
    "    pd.Series(CTR_list) - Series CTR\n",
    "    \"\"\"\n",
    "        \n",
    "    CTR_list = []\n",
    "    for i in range(n_exp):\n",
    "        ex_samp = df[df.exp_group == exp_group].sample(replace = True)\n",
    "        ex_samp_CTR = ex_samp.like.sum()/ex_samp.view.sum()\n",
    "        CTR_list.append(ex_samp_CTR)\n",
    "    return pd.Series(CTR_list)"
   ]
  },
  {
   "cell_type": "code",
   "execution_count": 25,
   "id": "74182131-5758-4cd0-a47f-3c753ca0d956",
   "metadata": {},
   "outputs": [],
   "source": [
    "ex_samp_1 = boot_CTR(df_g, 1)\n",
    "ex_samp_2 = boot_CTR(df_g, 2)"
   ]
  },
  {
   "cell_type": "code",
   "execution_count": 26,
   "id": "83e48149-7bb1-406d-9c87-6a9226e84725",
   "metadata": {},
   "outputs": [
    {
     "data": {
      "text/plain": [
       "<AxesSubplot:ylabel='Count'>"
      ]
     },
     "execution_count": 26,
     "metadata": {},
     "output_type": "execute_result"
    },
    {
     "data": {
      "image/png": "[encoded data removed]",
      "text/plain": [
       "<Figure size 432x288 with 1 Axes>"
      ]
     },
     "metadata": {
      "needs_background": "light"
     },
     "output_type": "display_data"
    }
   ],
   "source": [
    "sns.histplot(ex_samp_1, bins = 10, color = 'r', alpha = 0.8)\n",
    "sns.histplot(ex_samp_2, bins = 12, color = 'b', alpha = 0.3)"
   ]
  },
  {
   "cell_type": "code",
   "execution_count": 39,
   "id": "103900d3-311d-44aa-bbe8-d1b7a94423ae",
   "metadata": {},
   "outputs": [
    {
     "data": {
      "text/plain": [
       "Ttest_indResult(statistic=1.8833753690051405, pvalue=0.059684816458961426)"
      ]
     },
     "execution_count": 39,
     "metadata": {},
     "output_type": "execute_result"
    }
   ],
   "source": [
    "stats.ttest_ind(ex_samp_1, ex_samp_2, equal_var = False)"
   ]
  },
  {
   "cell_type": "code",
   "execution_count": 40,
   "id": "82be78bc-4461-4923-a0d4-833c9d77358f",
   "metadata": {},
   "outputs": [
    {
     "data": {
      "text/plain": [
       "MannwhitneyuResult(statistic=14235875.0, pvalue=2.593193912712084e-33)"
      ]
     },
     "execution_count": 40,
     "metadata": {},
     "output_type": "execute_result"
    }
   ],
   "source": [
    "stats.mannwhitneyu(ex_samp_1, ex_samp_2, alternative = 'two-sided')"
   ]
  },
  {
   "cell_type": "markdown",
   "id": "72687bc7-8b6f-4961-b2fb-73312b830946",
   "metadata": {},
   "source": [
    "Аналогичная картина той, что мы наблюдали, когда применяли данные статистические критерии на \"обычной\" выборке: Тест Стьюдента ничего не нашел (хотя значение p_value существенно снизилось; увеличив количество экпериментов оно снизится еще больше), а Манн-Уитни говорит, что нулевую гипотезу надо отклонять."
   ]
  },
  {
   "cell_type": "markdown",
   "id": "b772fe08-0fa1-4230-9de4-8ab26fc5f87e",
   "metadata": {},
   "source": [
    "#### Рекомендации"
   ]
  },
  {
   "cell_type": "markdown",
   "id": "af72f2e9-41ce-41b5-bed3-a3be7914abbb",
   "metadata": {},
   "source": [
    "- Подтвердилась гипотеза, что новый алгоритм влияет на поведение пользователей.\n",
    "- Среднее CTR экспериментальной группы практически совпадает с контрольной. Медианы существенно различаются (1 гр. - 0.203, 2 гр. - 0.142).\n",
    "\n",
    "Примененный алгоритм явно разбил пользователей экспериментальной группы на 2 части: у первой части CTR существенно упал, а у второй существенно вырос. Прежде чем \"раскатывать\" или не раскатывать алгоритм необходимо провести дополнительное исследование с целью выявить, кто выходит во вторую часть экспериментальной группы, у которой существенно вырос CTR (0.28-0.33). Возможно, стоит посмотреть на CTR в разрезе половозрастной структуры или ОС (смотреть страну, наверное, большого смысла нет, т.к. большая часть пользователей из России)."
   ]
  }
 ],
 "metadata": {
  "kernelspec": {
   "display_name": "Python 3 (ipykernel)",
   "language": "python",
   "name": "python3"
  },
  "language_info": {
   "codemirror_mode": {
    "name": "ipython",
    "version": 3
   },
   "file_extension": ".py",
   "mimetype": "text/x-python",
   "name": "python",
   "nbconvert_exporter": "python",
   "pygments_lexer": "ipython3",
   "version": "3.9.7"
  }
 },
 "nbformat": 4,
 "nbformat_minor": 5
}
