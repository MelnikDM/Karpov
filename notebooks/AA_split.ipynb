{
 "cells": [
  {
   "cell_type": "markdown",
   "id": "b112ed3f-2cec-4831-881b-0e8b220bd8c3",
   "metadata": {},
   "source": [
    "## AA-test"
   ]
  },
  {
   "cell_type": "code",
   "execution_count": 1,
   "id": "11dada56-da38-459a-aeb1-ca1ff0b26e5e",
   "metadata": {},
   "outputs": [],
   "source": [
    "import pandas as pd\n",
    "import pandahouse as ph\n",
    "from scipy import stats\n",
    "import hashlib\n",
    "import numpy as np\n",
    "import matplotlib.pyplot as plt\n",
    "import seaborn as sns"
   ]
  },
  {
   "cell_type": "markdown",
   "id": "3afb3669-720a-4ca5-a597-025367f96cf8",
   "metadata": {},
   "source": [
    "##### Хэширование с солью\n",
    "\n",
    "Посмотреть для себя, как работает система сплитования.\n",
    "\n"
   ]
  },
  {
   "cell_type": "code",
   "execution_count": 2,
   "id": "3f478f75-3e77-4e3e-b5e1-5b18d25124d9",
   "metadata": {},
   "outputs": [],
   "source": [
    "connection = {'host' : 'https://clickhouse.lab.karpov.courses',\n",
    "              'database' : 'simulator_20220820',\n",
    "              'user' : 'student',\n",
    "              'password' : 'dpo_python_2020'\n",
    "             }\n",
    "\n",
    "query = '''\n",
    "    SELECT user_id,\n",
    "           countIf(user_id, action = 'like' ) as like,\n",
    "           countIf(user_id, action = 'view' ) as view,\n",
    "           like/view as CTR,\n",
    "           exp_group\n",
    "      FROM {db}.feed_actions\n",
    "      WHERE toDate(time) >= '2022-07-06' and toDate(time) <= '2022-07-12'\n",
    "      GROUP BY user_id, exp_group\n",
    "      '''\n",
    "\n",
    "df = ph.read_clickhouse(query, connection = connection)"
   ]
  },
  {
   "cell_type": "code",
   "execution_count": 3,
   "id": "5b9f6e68-a332-4747-af98-26ff119c59bd",
   "metadata": {
    "tags": []
   },
   "outputs": [],
   "source": [
    "def ab_split(id, salt='exp_mess_1', n_groups=5):\n",
    "    test_id = str(id) + '-' + str(salt)\n",
    "    test_id_digest = hashlib.md5(test_id.encode('ascii')).hexdigest()\n",
    "    test_id_final_int = int(test_id_digest, 16)\n",
    "    return test_id_final_int % n_groups"
   ]
  },
  {
   "cell_type": "code",
   "execution_count": 4,
   "id": "2929e714-564d-4f32-9c48-85dc8fbeb9e9",
   "metadata": {},
   "outputs": [
    {
     "data": {
      "text/html": [
       "<div>\n",
       "<style scoped>\n",
       "    .dataframe tbody tr th:only-of-type {\n",
       "        vertical-align: middle;\n",
       "    }\n",
       "\n",
       "    .dataframe tbody tr th {\n",
       "        vertical-align: top;\n",
       "    }\n",
       "\n",
       "    .dataframe thead th {\n",
       "        text-align: right;\n",
       "    }\n",
       "</style>\n",
       "<table border=\"1\" class=\"dataframe\">\n",
       "  <thead>\n",
       "    <tr style=\"text-align: right;\">\n",
       "      <th></th>\n",
       "      <th>hash_group</th>\n",
       "      <th>user_id</th>\n",
       "    </tr>\n",
       "  </thead>\n",
       "  <tbody>\n",
       "    <tr>\n",
       "      <th>0</th>\n",
       "      <td>0</td>\n",
       "      <td>8725</td>\n",
       "    </tr>\n",
       "    <tr>\n",
       "      <th>1</th>\n",
       "      <td>1</td>\n",
       "      <td>8354</td>\n",
       "    </tr>\n",
       "    <tr>\n",
       "      <th>2</th>\n",
       "      <td>2</td>\n",
       "      <td>8516</td>\n",
       "    </tr>\n",
       "    <tr>\n",
       "      <th>3</th>\n",
       "      <td>3</td>\n",
       "      <td>8433</td>\n",
       "    </tr>\n",
       "    <tr>\n",
       "      <th>4</th>\n",
       "      <td>4</td>\n",
       "      <td>8557</td>\n",
       "    </tr>\n",
       "  </tbody>\n",
       "</table>\n",
       "</div>"
      ],
      "text/plain": [
       "   hash_group  user_id\n",
       "0           0     8725\n",
       "1           1     8354\n",
       "2           2     8516\n",
       "3           3     8433\n",
       "4           4     8557"
      ]
     },
     "execution_count": 4,
     "metadata": {},
     "output_type": "execute_result"
    }
   ],
   "source": [
    "df['hash_group'] = df.user_id.apply(ab_split)\n",
    "df.groupby('hash_group').user_id.nunique().reset_index()"
   ]
  },
  {
   "cell_type": "code",
   "execution_count": 5,
   "id": "05ba39fb-d270-4cb3-9df7-c52de599faa0",
   "metadata": {
    "tags": []
   },
   "outputs": [
    {
     "data": {
      "text/html": [
       "<div>\n",
       "<style scoped>\n",
       "    .dataframe tbody tr th:only-of-type {\n",
       "        vertical-align: middle;\n",
       "    }\n",
       "\n",
       "    .dataframe tbody tr th {\n",
       "        vertical-align: top;\n",
       "    }\n",
       "\n",
       "    .dataframe thead th {\n",
       "        text-align: right;\n",
       "    }\n",
       "</style>\n",
       "<table border=\"1\" class=\"dataframe\">\n",
       "  <thead>\n",
       "    <tr style=\"text-align: right;\">\n",
       "      <th></th>\n",
       "      <th>group</th>\n",
       "      <th>uniqExact(user_id)</th>\n",
       "    </tr>\n",
       "  </thead>\n",
       "  <tbody>\n",
       "    <tr>\n",
       "      <th>0</th>\n",
       "      <td>0</td>\n",
       "      <td>8552</td>\n",
       "    </tr>\n",
       "    <tr>\n",
       "      <th>1</th>\n",
       "      <td>1</td>\n",
       "      <td>8496</td>\n",
       "    </tr>\n",
       "    <tr>\n",
       "      <th>2</th>\n",
       "      <td>2</td>\n",
       "      <td>8491</td>\n",
       "    </tr>\n",
       "    <tr>\n",
       "      <th>3</th>\n",
       "      <td>3</td>\n",
       "      <td>8559</td>\n",
       "    </tr>\n",
       "    <tr>\n",
       "      <th>4</th>\n",
       "      <td>4</td>\n",
       "      <td>8487</td>\n",
       "    </tr>\n",
       "  </tbody>\n",
       "</table>\n",
       "</div>"
      ],
      "text/plain": [
       "   group  uniqExact(user_id)\n",
       "0      0                8552\n",
       "1      1                8496\n",
       "2      2                8491\n",
       "3      3                8559\n",
       "4      4                8487"
      ]
     },
     "execution_count": 5,
     "metadata": {},
     "output_type": "execute_result"
    }
   ],
   "source": [
    "q = \"\"\"\n",
    "    SELECT xxHash64(toString(user_id)||'my_salt')%5 as group,\n",
    "           uniqExact(user_id)\n",
    "      FROM {db}.feed_actions\n",
    "     WHERE toDate(time) >= '2022-07-06' and toDate(time) <= '2022-07-12'\n",
    "     GROUP BY group\n",
    "\"\"\"\n",
    "ph.read_clickhouse(q, connection=connection)"
   ]
  },
  {
   "cell_type": "markdown",
   "id": "76a158ef-fc7c-4472-b29b-c54fbc937c29",
   "metadata": {
    "tags": []
   },
   "source": [
    "## Задание 1.\n",
    "\n",
    "Итак, что нужно сделать: у нас есть данные АА-теста с **'2022-07-06' по '2022-07-12'**. Вам нужно сделать симуляцию, как будто мы провели 10000 АА-тестов. На каждой итерации вам нужно сформировать подвыборки без повторения в 500 юзеров из 2 и 3 экспериментальной группы. Провести сравнение этих подвыборок t-testом.\n",
    "\n",
    "1. Построить гистограмму распределения получившихся 10000 p-values.\n",
    "\n",
    "2. Посчитать, какой процент p values оказался меньше либо равен 0.05\n",
    "\n",
    "3. Написать вывод по проведенному АА-тесту, корректно ли работает наша система сплитования.\n",
    "\n",
    "4. Пришлите ссылку на merge request c проведенным анализом."
   ]
  },
  {
   "cell_type": "markdown",
   "id": "8e42b353-6035-46e3-810e-4475cebdff2d",
   "metadata": {},
   "source": [
    "**Построить гистограмму распределения получившихся 10000 p-values**"
   ]
  },
  {
   "cell_type": "markdown",
   "id": "547b94e5-540c-4bc8-9244-71c8a0ddbd0c",
   "metadata": {},
   "source": [
    "Посмотрим, что представляют из себя наши экспериментальные группы."
   ]
  },
  {
   "cell_type": "code",
   "execution_count": 6,
   "id": "ab7bca7a-2c68-4997-b82a-da4a82c67202",
   "metadata": {},
   "outputs": [],
   "source": [
    "df_g = df.query('exp_group == 2 | exp_group == 3')"
   ]
  },
  {
   "cell_type": "code",
   "execution_count": 4,
   "id": "196e97ed-b4e3-4622-8565-a77f780843f7",
   "metadata": {},
   "outputs": [
    {
     "data": {
      "text/html": [
       "<div>\n",
       "<style scoped>\n",
       "    .dataframe tbody tr th:only-of-type {\n",
       "        vertical-align: middle;\n",
       "    }\n",
       "\n",
       "    .dataframe tbody tr th {\n",
       "        vertical-align: top;\n",
       "    }\n",
       "\n",
       "    .dataframe thead th {\n",
       "        text-align: right;\n",
       "    }\n",
       "</style>\n",
       "<table border=\"1\" class=\"dataframe\">\n",
       "  <thead>\n",
       "    <tr style=\"text-align: right;\">\n",
       "      <th></th>\n",
       "      <th>user_id</th>\n",
       "      <th>like</th>\n",
       "      <th>view</th>\n",
       "      <th>CTR</th>\n",
       "      <th>exp_group</th>\n",
       "    </tr>\n",
       "  </thead>\n",
       "  <tbody>\n",
       "    <tr>\n",
       "      <th>0</th>\n",
       "      <td>115383</td>\n",
       "      <td>11</td>\n",
       "      <td>36</td>\n",
       "      <td>0.305556</td>\n",
       "      <td>3</td>\n",
       "    </tr>\n",
       "    <tr>\n",
       "      <th>2</th>\n",
       "      <td>123580</td>\n",
       "      <td>15</td>\n",
       "      <td>92</td>\n",
       "      <td>0.163043</td>\n",
       "      <td>3</td>\n",
       "    </tr>\n",
       "    <tr>\n",
       "      <th>3</th>\n",
       "      <td>131473</td>\n",
       "      <td>26</td>\n",
       "      <td>148</td>\n",
       "      <td>0.175676</td>\n",
       "      <td>2</td>\n",
       "    </tr>\n",
       "    <tr>\n",
       "      <th>5</th>\n",
       "      <td>24239</td>\n",
       "      <td>53</td>\n",
       "      <td>119</td>\n",
       "      <td>0.445378</td>\n",
       "      <td>2</td>\n",
       "    </tr>\n",
       "    <tr>\n",
       "      <th>6</th>\n",
       "      <td>118359</td>\n",
       "      <td>13</td>\n",
       "      <td>112</td>\n",
       "      <td>0.116071</td>\n",
       "      <td>3</td>\n",
       "    </tr>\n",
       "    <tr>\n",
       "      <th>...</th>\n",
       "      <td>...</td>\n",
       "      <td>...</td>\n",
       "      <td>...</td>\n",
       "      <td>...</td>\n",
       "      <td>...</td>\n",
       "    </tr>\n",
       "    <tr>\n",
       "      <th>42579</th>\n",
       "      <td>1560</td>\n",
       "      <td>7</td>\n",
       "      <td>37</td>\n",
       "      <td>0.189189</td>\n",
       "      <td>2</td>\n",
       "    </tr>\n",
       "    <tr>\n",
       "      <th>42580</th>\n",
       "      <td>122758</td>\n",
       "      <td>37</td>\n",
       "      <td>212</td>\n",
       "      <td>0.174528</td>\n",
       "      <td>3</td>\n",
       "    </tr>\n",
       "    <tr>\n",
       "      <th>42582</th>\n",
       "      <td>122190</td>\n",
       "      <td>25</td>\n",
       "      <td>74</td>\n",
       "      <td>0.337838</td>\n",
       "      <td>3</td>\n",
       "    </tr>\n",
       "    <tr>\n",
       "      <th>42583</th>\n",
       "      <td>108927</td>\n",
       "      <td>8</td>\n",
       "      <td>33</td>\n",
       "      <td>0.242424</td>\n",
       "      <td>2</td>\n",
       "    </tr>\n",
       "    <tr>\n",
       "      <th>42584</th>\n",
       "      <td>17310</td>\n",
       "      <td>2</td>\n",
       "      <td>14</td>\n",
       "      <td>0.142857</td>\n",
       "      <td>2</td>\n",
       "    </tr>\n",
       "  </tbody>\n",
       "</table>\n",
       "<p>17049 rows × 5 columns</p>\n",
       "</div>"
      ],
      "text/plain": [
       "       user_id  like  view       CTR  exp_group\n",
       "0       115383    11    36  0.305556          3\n",
       "2       123580    15    92  0.163043          3\n",
       "3       131473    26   148  0.175676          2\n",
       "5        24239    53   119  0.445378          2\n",
       "6       118359    13   112  0.116071          3\n",
       "...        ...   ...   ...       ...        ...\n",
       "42579     1560     7    37  0.189189          2\n",
       "42580   122758    37   212  0.174528          3\n",
       "42582   122190    25    74  0.337838          3\n",
       "42583   108927     8    33  0.242424          2\n",
       "42584    17310     2    14  0.142857          2\n",
       "\n",
       "[17049 rows x 5 columns]"
      ]
     },
     "execution_count": 4,
     "metadata": {},
     "output_type": "execute_result"
    }
   ],
   "source": [
    "df_g"
   ]
  },
  {
   "cell_type": "code",
   "execution_count": 6,
   "id": "4d470d75-3196-4ba0-856d-ee76ed686d0a",
   "metadata": {},
   "outputs": [
    {
     "data": {
      "text/html": [
       "<div>\n",
       "<style scoped>\n",
       "    .dataframe tbody tr th:only-of-type {\n",
       "        vertical-align: middle;\n",
       "    }\n",
       "\n",
       "    .dataframe tbody tr th {\n",
       "        vertical-align: top;\n",
       "    }\n",
       "\n",
       "    .dataframe thead th {\n",
       "        text-align: right;\n",
       "    }\n",
       "</style>\n",
       "<table border=\"1\" class=\"dataframe\">\n",
       "  <thead>\n",
       "    <tr style=\"text-align: right;\">\n",
       "      <th></th>\n",
       "      <th>mean</th>\n",
       "      <th>median</th>\n",
       "      <th>count</th>\n",
       "    </tr>\n",
       "    <tr>\n",
       "      <th>exp_group</th>\n",
       "      <th></th>\n",
       "      <th></th>\n",
       "      <th></th>\n",
       "    </tr>\n",
       "  </thead>\n",
       "  <tbody>\n",
       "    <tr>\n",
       "      <th>2</th>\n",
       "      <td>0.218246</td>\n",
       "      <td>0.205882</td>\n",
       "      <td>8480</td>\n",
       "    </tr>\n",
       "    <tr>\n",
       "      <th>3</th>\n",
       "      <td>0.219161</td>\n",
       "      <td>0.206612</td>\n",
       "      <td>8569</td>\n",
       "    </tr>\n",
       "  </tbody>\n",
       "</table>\n",
       "</div>"
      ],
      "text/plain": [
       "               mean    median  count\n",
       "exp_group                           \n",
       "2          0.218246  0.205882   8480\n",
       "3          0.219161  0.206612   8569"
      ]
     },
     "execution_count": 6,
     "metadata": {},
     "output_type": "execute_result"
    }
   ],
   "source": [
    "df_g.groupby('exp_group')['CTR'].agg(['mean', 'median', 'count'])"
   ]
  },
  {
   "cell_type": "code",
   "execution_count": 4,
   "id": "00958396-904c-4b27-9231-66741b784fb2",
   "metadata": {},
   "outputs": [
    {
     "data": {
      "image/png": "[encoded data removed]",
      "text/plain": [
       "<Figure size 420x360 with 1 Axes>"
      ]
     },
     "metadata": {
      "needs_background": "light"
     },
     "output_type": "display_data"
    }
   ],
   "source": [
    "sns.displot(x='CTR',\n",
    "            hue='exp_group',\n",
    "            data=df_g,\n",
    "            palette = ['r', 'b']);"
   ]
  },
  {
   "cell_type": "code",
   "execution_count": 7,
   "id": "c8d5917a-329d-43f1-be23-fe2ca6652baf",
   "metadata": {},
   "outputs": [
    {
     "data": {
      "text/plain": [
       "Ttest_indResult(statistic=-0.739359792495814, pvalue=0.45969873156477636)"
      ]
     },
     "execution_count": 7,
     "metadata": {},
     "output_type": "execute_result"
    }
   ],
   "source": [
    "stats.ttest_ind(df_g.query('exp_group == 2')['CTR'], df_g.query('exp_group == 3')['CTR'], equal_var = False)"
   ]
  },
  {
   "cell_type": "markdown",
   "id": "cc40a89d-a5e0-4847-bbeb-61de3ecfb9e1",
   "metadata": {},
   "source": [
    "Распредление визуально выглядит одинаковыми для обеих групп. T-test по средним CTR показал, что отклонить Н0 о равенстве средних нельзя (p-value = 0.4596 > 0.05 = α).\n",
    "\n",
    "Проведем симуляцию из 10 000 АА-тестов и сравним средние CTR. Нулевой гипотезой будет предположение об их равенстве."
   ]
  },
  {
   "cell_type": "code",
   "execution_count": 8,
   "id": "68f039e2-36bd-4fb3-90dc-529817208245",
   "metadata": {},
   "outputs": [],
   "source": [
    "pval_list = []\n",
    "n_exp = 10000\n",
    "n_samples = 500\n",
    "\n",
    "for i in range(n_exp):\n",
    "    sec_gr = df_g.query('exp_group == 2')['CTR'].sample(n_samples, replace = False)\n",
    "    th_gr = df_g.query('exp_group == 3')['CTR'].sample(n_samples, replace = False)\n",
    "    pval = stats.ttest_ind(sec_gr, th_gr, equal_var = False)\n",
    "    pval_list.append(pval[1])"
   ]
  },
  {
   "cell_type": "code",
   "execution_count": 9,
   "id": "4c955d87-c5c5-43c2-b39e-50da44509fe8",
   "metadata": {
    "tags": []
   },
   "outputs": [],
   "source": [
    "pval_sr = pd.Series(pval_list)"
   ]
  },
  {
   "cell_type": "code",
   "execution_count": 10,
   "id": "0e081f27-4dd7-43b8-b82c-94524b241e32",
   "metadata": {
    "tags": []
   },
   "outputs": [
    {
     "data": {
      "text/plain": [
       "<AxesSubplot:ylabel='Count'>"
      ]
     },
     "execution_count": 10,
     "metadata": {},
     "output_type": "execute_result"
    },
    {
     "data": {
      "image/png": "[encoded data removed]",
      "text/plain": [
       "<Figure size 432x288 with 1 Axes>"
      ]
     },
     "metadata": {
      "needs_background": "light"
     },
     "output_type": "display_data"
    }
   ],
   "source": [
    "sns.histplot(pval_sr, bins = 10)"
   ]
  },
  {
   "cell_type": "markdown",
   "id": "39080dd8-ecdb-4557-9b89-615b0fa1d175",
   "metadata": {},
   "source": [
    "**Посчитать, какой процент p values оказался меньше либо равен 0.05**"
   ]
  },
  {
   "cell_type": "code",
   "execution_count": 11,
   "id": "87890479-f05f-4b6f-b013-d76641529500",
   "metadata": {},
   "outputs": [
    {
     "name": "stdout",
     "output_type": "stream",
     "text": [
      "4.54% p-values оказался меньше либо равен 0.05\n"
     ]
    }
   ],
   "source": [
    "percent = len(pval_sr[pval_sr <= 0.05])/len(pval_sr)*100\n",
    "print(f'{percent:.2f}% p-values оказался меньше либо равен 0.05')"
   ]
  },
  {
   "cell_type": "markdown",
   "id": "b772fe08-0fa1-4230-9de4-8ab26fc5f87e",
   "metadata": {},
   "source": [
    "**Написать вывод по проведенному АА-тесту, корректно ли работает наша система сплитования.**"
   ]
  },
  {
   "cell_type": "markdown",
   "id": "af72f2e9-41ce-41b5-bed3-a3be7914abbb",
   "metadata": {},
   "source": [
    "- Распредление p-values носит равномерный характер\n",
    "- Лишь в примерно 5% случаях показатели p-values позволяют отвернуть Н0\n",
    "\n",
    "Т.о., можно утверждать, что система сплитования работает корректно."
   ]
  }
 ],
 "metadata": {
  "kernelspec": {
   "display_name": "Python 3 (ipykernel)",
   "language": "python",
   "name": "python3"
  },
  "language_info": {
   "codemirror_mode": {
    "name": "ipython",
    "version": 3
   },
   "file_extension": ".py",
   "mimetype": "text/x-python",
   "name": "python",
   "nbconvert_exporter": "python",
   "pygments_lexer": "ipython3",
   "version": "3.9.7"
  }
 },
 "nbformat": 4,
 "nbformat_minor": 5
}
